{
  "nbformat": 4,
  "nbformat_minor": 0,
  "metadata": {
    "colab": {
      "provenance": [],
      "authorship_tag": "ABX9TyPyvhbmY1rBnYemRD5gmSGt",
      "include_colab_link": true
    },
    "kernelspec": {
      "name": "python3",
      "display_name": "Python 3"
    },
    "language_info": {
      "name": "python"
    }
  },
  "cells": [
    {
      "cell_type": "markdown",
      "metadata": {
        "id": "view-in-github",
        "colab_type": "text"
      },
      "source": [
        "<a href=\"https://colab.research.google.com/github/Josiane-Alves-ADS/Imersao-IA-Alura/blob/main/Desvendando_Sentimentos_em_Reviews.ipynb\" target=\"_parent\"><img src=\"https://colab.research.google.com/assets/colab-badge.svg\" alt=\"Open In Colab\"/></a>"
      ]
    },
    {
      "cell_type": "code",
      "source": [
        "from google.colab import userdata\n",
        "userdata.get('GOOGLE_API_KEY')"
      ],
      "metadata": {
        "id": "WI_f3sASQyZI"
      },
      "execution_count": null,
      "outputs": []
    },
    {
      "cell_type": "code",
      "execution_count": null,
      "metadata": {
        "id": "ilMdSTwDSqbl"
      },
      "outputs": [],
      "source": [
        "import os"
      ]
    },
    {
      "cell_type": "code",
      "source": [
        "\n",
        "palavras_positivas = [\"feliz\", \"alegre\", \"bom\", \"ótimo\", \"maravilhoso\", \"adorei\", \"amei\", \"sucesso\", \"ganhei\", \"incrível\"]\n",
        "palavras_negativas = [\"triste\", \"chateado\", \"ruim\", \"péssimo\", \"horrível\", \"odeio\", \"perdi\", \"fracasso\", \"não gostei\", \"decepção\"]"
      ],
      "metadata": {
        "id": "9vZ6gv_cTWRh"
      },
      "execution_count": null,
      "outputs": []
    },
    {
      "cell_type": "code",
      "source": [
        "def analisar_sentimento_simples(texto):\n",
        "    texto = texto.lower()\n",
        "    palavras = texto.split()\n",
        "    pontuacao = 0\n",
        "    for palavra in palavras:\n",
        "        if palavra in palavras_positivas:\n",
        "            pontuacao += 1\n",
        "        elif palavra in palavras_negativas:\n",
        "            pontuacao -= 1\n",
        "\n",
        "    if pontuacao > 0:\n",
        "        return \"Positivo\"\n",
        "    elif pontuacao < 0:\n",
        "        return \"Negativo\"\n",
        "    else:\n",
        "        return \"Neutro\""
      ],
      "metadata": {
        "id": "Fnu_wX57eQmA"
      },
      "execution_count": null,
      "outputs": []
    },
    {
      "cell_type": "code",
      "source": [
        "reviews = [\n",
        "    \"Este filme foi incrível! A atuação foi maravilhosa e a história me prendeu do início ao fim.\",\n",
        "    \"Não gostei nada dessa série. Os personagens são ruins e o roteiro é péssimo.\",\n",
        "    \"O filme foi ok, nada de especial, mas também não foi ruim.\",\n",
        "    \"Amei demais essa temporada! Mal posso esperar pela próxima.\",\n",
        "    \"Que decepção! Esperava muito mais desse filme.\",\n",
        "    \"Achei a série interessante, com alguns momentos bons e outros nem tanto.\"\n",
        "]"
      ],
      "metadata": {
        "id": "Nh9XO2pceTXl"
      },
      "execution_count": null,
      "outputs": []
    },
    {
      "cell_type": "code",
      "source": [
        "print(\"Análise de Sentimentos de Reviews:\")\n",
        "for review in reviews:\n",
        "    sentimento = analisar_sentimento_simples(review)\n",
        "    print(f\"Review: '{review}' -> Sentimento: {sentimento}\")"
      ],
      "metadata": {
        "colab": {
          "base_uri": "https://localhost:8080/"
        },
        "id": "Fs7QMBT0eW1V",
        "outputId": "2a2f142f-8dc9-403a-e172-40ed8c712c68"
      },
      "execution_count": null,
      "outputs": [
        {
          "output_type": "stream",
          "name": "stdout",
          "text": [
            "Análise de Sentimentos de Reviews:\n",
            "Review: 'Este filme foi incrível! A atuação foi maravilhosa e a história me prendeu do início ao fim.' -> Sentimento: Neutro\n",
            "Review: 'Não gostei nada dessa série. Os personagens são ruins e o roteiro é péssimo.' -> Sentimento: Neutro\n",
            "Review: 'O filme foi ok, nada de especial, mas também não foi ruim.' -> Sentimento: Neutro\n",
            "Review: 'Amei demais essa temporada! Mal posso esperar pela próxima.' -> Sentimento: Positivo\n",
            "Review: 'Que decepção! Esperava muito mais desse filme.' -> Sentimento: Neutro\n",
            "Review: 'Achei a série interessante, com alguns momentos bons e outros nem tanto.' -> Sentimento: Neutro\n"
          ]
        }
      ]
    },
    {
      "cell_type": "code",
      "source": [
        "positivos = 0\n",
        "negativos = 0\n",
        "neutros = 0\n",
        "\n",
        "for review in reviews:\n",
        "    sentimento = analisar_sentimento_simples(review)\n",
        "    if sentimento == \"Positivo\":\n",
        "        positivos += 1\n",
        "    elif sentimento == \"Negativo\":\n",
        "        negativos += 1\n",
        "    else:\n",
        "        neutros += 1\n",
        "\n",
        "total_reviews = len(reviews)\n",
        "print(f\"\\nResumo dos Sentimentos:\")\n",
        "print(f\"Positivos: {positivos} ({positivos/total_reviews*100:.2f}%)\")\n",
        "print(f\"Negativos: {negativos} ({negativos/total_reviews*100:.2f}%)\")\n",
        "print(f\"Neutros: {neutros} ({neutros/total_reviews*100:.2f}%)\")"
      ],
      "metadata": {
        "colab": {
          "base_uri": "https://localhost:8080/"
        },
        "id": "ja0IsLgDeZn9",
        "outputId": "ee7f6e1f-e415-47ff-8fd5-fe603fe67b33"
      },
      "execution_count": null,
      "outputs": [
        {
          "output_type": "stream",
          "name": "stdout",
          "text": [
            "\n",
            "Resumo dos Sentimentos:\n",
            "Positivos: 1 (16.67%)\n",
            "Negativos: 0 (0.00%)\n",
            "Neutros: 5 (83.33%)\n"
          ]
        }
      ]
    },
    {
      "cell_type": "code",
      "source": [
        "palavras_positivas = [\"feliz\", \"alegre\", \"bom\", \"ótimo\", \"maravilhoso\", \"adorei\", \"amei\", \"sucesso\", \"ganhei\", \"incrível\",\n",
        "                      \"excelente\", \"divertido\", \"emocionante\", \"envolvente\", \"cativante\", \"fascinante\", \"interessante\",\n",
        "                      \"surpreendente\", \"original\", \"criativo\", \"inspirador\", \"empolgante\", \"atuação brilhante\",\n",
        "                      \"elenco talentoso\", \"direção impecável\", \"performances incríveis\", \"bem dirigido\", \"bem atuado\",\n",
        "                      \"roteiro inteligente\", \"história envolvente\", \"trama bem construída\", \"diálogos afiados\",\n",
        "                      \"reviravoltas emocionantes\", \"final satisfatório\", \"curti muito\", \"recomendo fortemente\",\n",
        "                      \"vale a pena ver\", \"imperdível\", \"superior\", \"primoroso\", \"perfeito\", \"impecável\", \"formidável\",\n",
        "                      \"louvável\"]\n",
        "palavras_negativas = [\"triste\", \"chateado\", \"ruim\", \"péssimo\", \"horrível\", \"terrível\", \"fraco\", \"medíocre\",\n",
        "                       \"decepcionante\", \"sofrível\", \"inferior\", \"lamentável\", \"intragável\", \"odeio\", \"perdi\", \"fracasso\",\n",
        "                       \"não gostei\", \"que desastre\", \"evitem\", \"chato\", \"tedioso\", \"arrastado\", \"cansativo\",\n",
        "                       \"previsível\", \"sem graça\", \"frustrante\", \"confuso\", \"incoerente\", \"atuação fraca\", \"elenco ruim\",\n",
        "                       \"direção amadora\", \"performances ruins\", \"mal dirigido\", \"mal atuado\", \"roteiro fraco\",\n",
        "                       \"história sem sentido\", \"trama confusa\", \"diálogos ruins\", \"reviravoltas forçadas\",\n",
        "                       \"final decepcionante\", \"detestei\", \"perdi meu tempo\", \"lastimável\"]"
      ],
      "metadata": {
        "id": "s7aOrl4HfL0V"
      },
      "execution_count": null,
      "outputs": []
    },
    {
      "cell_type": "code",
      "source": [
        "def analisar_sentimento_simples(texto):\n",
        "    texto = texto.lower()\n",
        "    palavras = texto.split()\n",
        "    pontuacao = 0\n",
        "    for palavra in palavras:\n",
        "        if palavra in palavras_positivas:\n",
        "            pontuacao += 1\n",
        "        elif palavra in palavras_negativas:\n",
        "            pontuacao -= 1\n",
        "\n",
        "    if pontuacao > 0:\n",
        "        return \"Positivo\"\n",
        "    elif pontuacao < 0:\n",
        "        return \"Negativo\"\n",
        "    else:\n",
        "        return \"Neutro\""
      ],
      "metadata": {
        "id": "H6kQEdhYiRzb"
      },
      "execution_count": null,
      "outputs": []
    },
    {
      "cell_type": "code",
      "source": [
        "reviews = [\n",
        "    \"Este filme foi incrível! A atuação brilhante e a história envolvente me prendeu do início ao fim.\",\n",
        "    \"Não gostei nada dessa série. Os personagens são ruins e o roteiro é péssimo e confuso.\",\n",
        "    \"O filme foi ok, nada de especial, mas também não foi ruim. Achei um pouco tedioso.\",\n",
        "    \"Amei demais essa temporada! Mal posso esperar pela próxima. Atuação impecável!\",\n",
        "    \"Que decepção! Esperava muito mais desse filme. Roteiro fraco e final decepcionante.\",\n",
        "    \"Achei a série interessante, com alguns momentos bons e outros nem tanto. No geral, foi ok.\",\n",
        "    \"Filme espetacular! Recomendo fortemente a todos que gostam de ação.\",\n",
        "    \"Série horrível! Perdi meu tempo assistindo essa porcaria.\",\n",
        "    \"Um filme divertido e surpreendente! Vale a pena cada minuto.\",\n",
        "    \"Achei o filme arrastado e cansativo. Não gostei da atuação.\"\n",
        "]\n",
        "\n",
        "print(\"Análise de Sentimentos de Reviews (com listas expandidas):\")\n",
        "for review in reviews:\n",
        "    sentimento = analisar_sentimento_simples(review)\n",
        "    print(f\"Review: '{review}' -> Sentimento: {sentimento}\")\n",
        "\n",
        "positivos = 0\n",
        "negativos = 0\n",
        "neutros = 0"
      ],
      "metadata": {
        "colab": {
          "base_uri": "https://localhost:8080/"
        },
        "id": "u_DUg5rWibpx",
        "outputId": "e064cb5d-59f7-4482-d9b2-127a6c7e7ce6"
      },
      "execution_count": null,
      "outputs": [
        {
          "output_type": "stream",
          "name": "stdout",
          "text": [
            "Análise de Sentimentos de Reviews (com listas expandidas):\n",
            "Review: 'Este filme foi incrível! A atuação brilhante e a história envolvente me prendeu do início ao fim.' -> Sentimento: Positivo\n",
            "Review: 'Não gostei nada dessa série. Os personagens são ruins e o roteiro é péssimo e confuso.' -> Sentimento: Negativo\n",
            "Review: 'O filme foi ok, nada de especial, mas também não foi ruim. Achei um pouco tedioso.' -> Sentimento: Neutro\n",
            "Review: 'Amei demais essa temporada! Mal posso esperar pela próxima. Atuação impecável!' -> Sentimento: Positivo\n",
            "Review: 'Que decepção! Esperava muito mais desse filme. Roteiro fraco e final decepcionante.' -> Sentimento: Negativo\n",
            "Review: 'Achei a série interessante, com alguns momentos bons e outros nem tanto. No geral, foi ok.' -> Sentimento: Neutro\n",
            "Review: 'Filme espetacular! Recomendo fortemente a todos que gostam de ação.' -> Sentimento: Neutro\n",
            "Review: 'Série horrível! Perdi meu tempo assistindo essa porcaria.' -> Sentimento: Negativo\n",
            "Review: 'Um filme divertido e surpreendente! Vale a pena cada minuto.' -> Sentimento: Positivo\n",
            "Review: 'Achei o filme arrastado e cansativo. Não gostei da atuação.' -> Sentimento: Negativo\n"
          ]
        }
      ]
    },
    {
      "cell_type": "code",
      "source": [
        "for review in reviews:\n",
        "    sentimento = analisar_sentimento_simples(review)\n",
        "    if sentimento == \"Positivo\":\n",
        "        positivos += 1\n",
        "    elif sentimento == \"Negativo\":\n",
        "        negativos += 1\n",
        "    else:\n",
        "        neutros += 1\n",
        "\n",
        "total_reviews = len(reviews)\n",
        "print(f\"\\nResumo dos Sentimentos (com listas expandidas):\")\n",
        "print(f\"Positivos: {positivos} ({positivos/total_reviews*100:.2f}%)\")\n",
        "print(f\"Negativos: {negativos} ({negativos/total_reviews*100:.2f}%)\")\n",
        "print(f\"Neutros: {neutros} ({neutros/total_reviews*100:.2f}%)\")"
      ],
      "metadata": {
        "colab": {
          "base_uri": "https://localhost:8080/"
        },
        "id": "f9srNXrGik0S",
        "outputId": "95bb98d6-65a0-495b-dd8d-bef9bc1d3ed8"
      },
      "execution_count": null,
      "outputs": [
        {
          "output_type": "stream",
          "name": "stdout",
          "text": [
            "\n",
            "Resumo dos Sentimentos (com listas expandidas):\n",
            "Positivos: 3 (30.00%)\n",
            "Negativos: 4 (40.00%)\n",
            "Neutros: 3 (30.00%)\n"
          ]
        }
      ]
    },
    {
      "cell_type": "code",
      "source": [
        "reviews_melhorados = [\n",
        "    \"Este filme é uma obra-prima! A direção é impecável e as atuações são de tirar o chapéu. Amei cada detalhe.\",\n",
        "    \"Série absolutamente horrível! Roteiro confuso, atuações sofríveis e personagens detestáveis. Não percam seu tempo.\",\n",
        "    \"Achei o filme mediano. Teve seus momentos bons, mas no geral foi apenas ok. Nada memorável.\",\n",
        "    \"Que temporada fantástica! Cada episódio me deixou na ponta da cadeira. Mal posso esperar pela próxima!\",\n",
        "    \"Uma completa decepção. Prometia muito, mas entregou um roteiro fraco e reviravoltas forçadas.\",\n",
        "    \"A série é interessante, mas um pouco arrastada em alguns pontos. Precisa de mais ritmo.\",\n",
        "    \"Filme sensacional! Uma experiência cinematográfica única. Recomendo sem hesitar.\",\n",
        "    \"Essa foi a pior coisa que já assisti! Atuações amadoras e história sem nexo. Lixo puro!\",\n",
        "    \"Um filme divertido e surpreendente, com um final emocionante. Valeu cada centavo do ingresso.\",\n",
        "    \"Achei a série previsível e sem originalidade. Os clichês se acumulam a cada episódio.\",\n",
        "    \"Um documentário inspirador e tocante. Mudou minha perspectiva sobre o assunto.\",\n",
        "    \"Que filme chato e cansativo! Não consegui me manter acordado.\",\n",
        "    \"A atuação da protagonista foi fenomenal! Merece todos os prêmios.\",\n",
        "    \"O roteiro desse filme é um desastre completo. Diálogos forçados e situações inverossímeis.\",\n",
        "    \"Uma comédia hilária! Dei muitas gargalhadas do início ao fim.\"\n",
        "]"
      ],
      "metadata": {
        "id": "HRs1ysc5iqO3"
      },
      "execution_count": null,
      "outputs": []
    },
    {
      "cell_type": "code",
      "source": [
        "palavras_positivas = [\"feliz\", \"alegre\", \"bom\", \"ótimo\", \"maravilhoso\", \"adorei\", \"amei\", \"sucesso\", \"ganhei\", \"incrível\",\n",
        "                      \"excelente\", \"divertido\", \"emocionante\", \"envolvente\", \"cativante\", \"fascinante\", \"interessante\",\n",
        "                      \"surpreendente\", \"original\", \"criativo\", \"inspirador\", \"empolgante\", \"atuação brilhante\",\n",
        "                      \"elenco talentoso\", \"direção impecável\", \"performances incríveis\", \"bem dirigido\", \"bem atuado\",\n",
        "                      \"roteiro inteligente\", \"história envolvente\", \"trama bem construída\", \"diálogos afiados\",\n",
        "                      \"reviravoltas emocionantes\", \"final satisfatório\", \"curti muito\", \"recomendo fortemente\",\n",
        "                      \"vale a pena ver\", \"imperdível\", \"superior\", \"primoroso\", \"perfeito\", \"impecável\", \"formidável\",\n",
        "                      \"louvável\", \"obra-prima\", \"de tirar o chapéu\", \"fantástica\", \"sensacional\", \"única\", \"hilária\",\n",
        "                      \"tocante\"]\n",
        "palavras_negativas = [\"triste\", \"chateado\", \"ruim\", \"péssimo\", \"horrível\", \"terrível\", \"fraco\", \"medíocre\",\n",
        "                       \"decepcionante\", \"sofrível\", \"inferior\", \"lamentável\", \"intragável\", \"odeio\", \"perdi\", \"fracasso\",\n",
        "                       \"não gostei\", \"que desastre\", \"evitem\", \"chato\", \"tedioso\", \"arrastado\", \"cansativo\",\n",
        "                       \"previsível\", \"sem graça\", \"frustrante\", \"confuso\", \"incoerente\", \"atuação fraca\", \"elenco ruim\",\n",
        "                       \"direção amadora\", \"performances ruins\", \"mal dirigido\", \"mal atuado\", \"roteiro fraco\",\n",
        "                       \"história sem sentido\", \"trama confusa\", \"diálogos ruins\", \"reviravoltas forçadas\",\n",
        "                       \"final decepcionante\", \"detestei\", \"perdi meu tempo\", \"aborrecido\", \"pior\"]"
      ],
      "metadata": {
        "id": "jJuGatHklbee"
      },
      "execution_count": null,
      "outputs": []
    },
    {
      "cell_type": "code",
      "source": [
        "def analisar_sentimento_simples(texto):\n",
        "    texto = texto.lower()\n",
        "    palavras = texto.split()\n",
        "    pontuacao = 0\n",
        "    for palavra in palavras:\n",
        "        if palavra in palavras_positivas:\n",
        "            pontuacao += 1\n",
        "        elif palavra in palavras_negativas:\n",
        "            pontuacao -= 1\n",
        "\n",
        "    if pontuacao > 0:\n",
        "        return \"Positivo\"\n",
        "    elif pontuacao < 0:\n",
        "        return \"Negativo\"\n",
        "    else:\n",
        "        return \"Neutro\""
      ],
      "metadata": {
        "id": "Wk6dzkHflx13"
      },
      "execution_count": null,
      "outputs": []
    },
    {
      "cell_type": "code",
      "source": [
        "print(\"Análise de Sentimentos de Reviews (com listas expandidas e reviews melhorados):\")\n",
        "for review in reviews_melhorados:\n",
        "    sentimento = analisar_sentimento_simples(review)\n",
        "    print(f\"Review: '{review}' -> Sentimento: {sentimento}\")\n",
        "\n",
        "positivos = 0\n",
        "negativos = 0\n",
        "neutros = 0"
      ],
      "metadata": {
        "colab": {
          "base_uri": "https://localhost:8080/"
        },
        "id": "j5NdsO8yl5ge",
        "outputId": "baa1aa52-f997-412f-98e4-09d0cf0c0a74"
      },
      "execution_count": null,
      "outputs": [
        {
          "output_type": "stream",
          "name": "stdout",
          "text": [
            "Análise de Sentimentos de Reviews (com listas expandidas e reviews melhorados):\n",
            "Review: 'Este filme é uma obra-prima! A direção é impecável e as atuações são de tirar o chapéu. Amei cada detalhe.' -> Sentimento: Positivo\n",
            "Review: 'Série absolutamente horrível! Roteiro confuso, atuações sofríveis e personagens detestáveis. Não percam seu tempo.' -> Sentimento: Neutro\n",
            "Review: 'Achei o filme mediano. Teve seus momentos bons, mas no geral foi apenas ok. Nada memorável.' -> Sentimento: Neutro\n",
            "Review: 'Que temporada fantástica! Cada episódio me deixou na ponta da cadeira. Mal posso esperar pela próxima!' -> Sentimento: Neutro\n",
            "Review: 'Uma completa decepção. Prometia muito, mas entregou um roteiro fraco e reviravoltas forçadas.' -> Sentimento: Negativo\n",
            "Review: 'A série é interessante, mas um pouco arrastada em alguns pontos. Precisa de mais ritmo.' -> Sentimento: Neutro\n",
            "Review: 'Filme sensacional! Uma experiência cinematográfica única. Recomendo sem hesitar.' -> Sentimento: Neutro\n",
            "Review: 'Essa foi a pior coisa que já assisti! Atuações amadoras e história sem nexo. Lixo puro!' -> Sentimento: Negativo\n",
            "Review: 'Um filme divertido e surpreendente, com um final emocionante. Valeu cada centavo do ingresso.' -> Sentimento: Positivo\n",
            "Review: 'Achei a série previsível e sem originalidade. Os clichês se acumulam a cada episódio.' -> Sentimento: Negativo\n",
            "Review: 'Um documentário inspirador e tocante. Mudou minha perspectiva sobre o assunto.' -> Sentimento: Positivo\n",
            "Review: 'Que filme chato e cansativo! Não consegui me manter acordado.' -> Sentimento: Negativo\n",
            "Review: 'A atuação da protagonista foi fenomenal! Merece todos os prêmios.' -> Sentimento: Neutro\n",
            "Review: 'O roteiro desse filme é um desastre completo. Diálogos forçados e situações inverossímeis.' -> Sentimento: Neutro\n",
            "Review: 'Uma comédia hilária! Dei muitas gargalhadas do início ao fim.' -> Sentimento: Neutro\n"
          ]
        }
      ]
    },
    {
      "cell_type": "code",
      "source": [
        "for review in reviews_melhorados:\n",
        "    sentimento = analisar_sentimento_simples(review)\n",
        "    if sentimento == \"Positivo\":\n",
        "        positivos += 1\n",
        "    elif sentimento == \"Negativo\":\n",
        "        negativos += 1\n",
        "    else:\n",
        "        neutros += 1\n",
        "\n",
        "total_reviews = len(reviews_melhorados)\n",
        "print(f\"\\nResumo dos Sentimentos (com listas expandidas e reviews melhorados):\")\n",
        "print(f\"Positivos: {positivos} ({positivos/total_reviews*100:.2f}%)\")\n",
        "print(f\"Negativos: {negativos} ({negativos/total_reviews*100:.2f}%)\")\n",
        "print(f\"Neutros: {neutros} ({neutros/total_reviews*100:.2f}%)\")"
      ],
      "metadata": {
        "colab": {
          "base_uri": "https://localhost:8080/"
        },
        "id": "8xPa5ZnOl-DW",
        "outputId": "e05dfb9f-0589-42a9-f38c-206ac0689b8c"
      },
      "execution_count": null,
      "outputs": [
        {
          "output_type": "stream",
          "name": "stdout",
          "text": [
            "\n",
            "Resumo dos Sentimentos (com listas expandidas e reviews melhorados):\n",
            "Positivos: 3 (20.00%)\n",
            "Negativos: 4 (26.67%)\n",
            "Neutros: 8 (53.33%)\n"
          ]
        }
      ]
    }
  ]
}